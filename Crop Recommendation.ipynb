{
 "cells": [
  {
   "cell_type": "code",
   "execution_count": 149,
   "metadata": {},
   "outputs": [],
   "source": [
    "import pandas as pd\n",
    "import numpy as np"
   ]
  },
  {
   "cell_type": "code",
   "execution_count": 150,
   "metadata": {},
   "outputs": [],
   "source": [
    "train_data = pd.read_csv(\"https://raw.githubusercontent.com/dphi-official/Datasets/master/crop_recommendation/train_set_label.csv\")"
   ]
  },
  {
   "cell_type": "code",
   "execution_count": 151,
   "metadata": {},
   "outputs": [
    {
     "data": {
      "text/html": [
       "<div>\n",
       "<style scoped>\n",
       "    .dataframe tbody tr th:only-of-type {\n",
       "        vertical-align: middle;\n",
       "    }\n",
       "\n",
       "    .dataframe tbody tr th {\n",
       "        vertical-align: top;\n",
       "    }\n",
       "\n",
       "    .dataframe thead th {\n",
       "        text-align: right;\n",
       "    }\n",
       "</style>\n",
       "<table border=\"1\" class=\"dataframe\">\n",
       "  <thead>\n",
       "    <tr style=\"text-align: right;\">\n",
       "      <th></th>\n",
       "      <th>N</th>\n",
       "      <th>P</th>\n",
       "      <th>K</th>\n",
       "      <th>temperature</th>\n",
       "      <th>humidity</th>\n",
       "      <th>ph</th>\n",
       "      <th>rainfall</th>\n",
       "      <th>crop</th>\n",
       "    </tr>\n",
       "  </thead>\n",
       "  <tbody>\n",
       "    <tr>\n",
       "      <th>0</th>\n",
       "      <td>17.0</td>\n",
       "      <td>136.0</td>\n",
       "      <td>196.0</td>\n",
       "      <td>23.871923</td>\n",
       "      <td>90.499390</td>\n",
       "      <td>5.882156</td>\n",
       "      <td>103.054809</td>\n",
       "      <td>apple</td>\n",
       "    </tr>\n",
       "    <tr>\n",
       "      <th>1</th>\n",
       "      <td>49.0</td>\n",
       "      <td>69.0</td>\n",
       "      <td>82.0</td>\n",
       "      <td>18.315615</td>\n",
       "      <td>15.361435</td>\n",
       "      <td>7.263119</td>\n",
       "      <td>81.787105</td>\n",
       "      <td>chickpea</td>\n",
       "    </tr>\n",
       "    <tr>\n",
       "      <th>2</th>\n",
       "      <td>74.0</td>\n",
       "      <td>49.0</td>\n",
       "      <td>38.0</td>\n",
       "      <td>23.314104</td>\n",
       "      <td>71.450905</td>\n",
       "      <td>7.488014</td>\n",
       "      <td>164.497037</td>\n",
       "      <td>jute</td>\n",
       "    </tr>\n",
       "    <tr>\n",
       "      <th>3</th>\n",
       "      <td>104.0</td>\n",
       "      <td>35.0</td>\n",
       "      <td>28.0</td>\n",
       "      <td>27.510061</td>\n",
       "      <td>50.666872</td>\n",
       "      <td>6.983732</td>\n",
       "      <td>143.995555</td>\n",
       "      <td>coffee</td>\n",
       "    </tr>\n",
       "    <tr>\n",
       "      <th>4</th>\n",
       "      <td>23.0</td>\n",
       "      <td>72.0</td>\n",
       "      <td>84.0</td>\n",
       "      <td>19.020613</td>\n",
       "      <td>17.131591</td>\n",
       "      <td>6.920251</td>\n",
       "      <td>79.926981</td>\n",
       "      <td>chickpea</td>\n",
       "    </tr>\n",
       "  </tbody>\n",
       "</table>\n",
       "</div>"
      ],
      "text/plain": [
       "       N      P      K  temperature   humidity        ph    rainfall      crop\n",
       "0   17.0  136.0  196.0    23.871923  90.499390  5.882156  103.054809     apple\n",
       "1   49.0   69.0   82.0    18.315615  15.361435  7.263119   81.787105  chickpea\n",
       "2   74.0   49.0   38.0    23.314104  71.450905  7.488014  164.497037      jute\n",
       "3  104.0   35.0   28.0    27.510061  50.666872  6.983732  143.995555    coffee\n",
       "4   23.0   72.0   84.0    19.020613  17.131591  6.920251   79.926981  chickpea"
      ]
     },
     "execution_count": 151,
     "metadata": {},
     "output_type": "execute_result"
    }
   ],
   "source": [
    "train_data.head()"
   ]
  },
  {
   "cell_type": "code",
   "execution_count": 152,
   "metadata": {},
   "outputs": [
    {
     "data": {
      "text/plain": [
       "22"
      ]
     },
     "execution_count": 152,
     "metadata": {},
     "output_type": "execute_result"
    }
   ],
   "source": [
    "train_data.crop.nunique()"
   ]
  },
  {
   "cell_type": "code",
   "execution_count": 153,
   "metadata": {},
   "outputs": [],
   "source": [
    "test_data = pd.read_csv('https://raw.githubusercontent.com/dphi-official/Datasets/master/crop_recommendation/test_set_label.csv')"
   ]
  },
  {
   "cell_type": "code",
   "execution_count": 154,
   "metadata": {},
   "outputs": [
    {
     "data": {
      "text/html": [
       "<div>\n",
       "<style scoped>\n",
       "    .dataframe tbody tr th:only-of-type {\n",
       "        vertical-align: middle;\n",
       "    }\n",
       "\n",
       "    .dataframe tbody tr th {\n",
       "        vertical-align: top;\n",
       "    }\n",
       "\n",
       "    .dataframe thead th {\n",
       "        text-align: right;\n",
       "    }\n",
       "</style>\n",
       "<table border=\"1\" class=\"dataframe\">\n",
       "  <thead>\n",
       "    <tr style=\"text-align: right;\">\n",
       "      <th></th>\n",
       "      <th>N</th>\n",
       "      <th>P</th>\n",
       "      <th>K</th>\n",
       "      <th>temperature</th>\n",
       "      <th>humidity</th>\n",
       "      <th>ph</th>\n",
       "      <th>rainfall</th>\n",
       "    </tr>\n",
       "  </thead>\n",
       "  <tbody>\n",
       "    <tr>\n",
       "      <th>0</th>\n",
       "      <td>22.00000</td>\n",
       "      <td>51.00000</td>\n",
       "      <td>16.000000</td>\n",
       "      <td>27.965837</td>\n",
       "      <td>61.349001</td>\n",
       "      <td>8.639586</td>\n",
       "      <td>70.104721</td>\n",
       "    </tr>\n",
       "    <tr>\n",
       "      <th>1</th>\n",
       "      <td>130.20691</td>\n",
       "      <td>59.20691</td>\n",
       "      <td>18.586179</td>\n",
       "      <td>25.123987</td>\n",
       "      <td>82.356124</td>\n",
       "      <td>6.707583</td>\n",
       "      <td>91.431992</td>\n",
       "    </tr>\n",
       "    <tr>\n",
       "      <th>2</th>\n",
       "      <td>28.00000</td>\n",
       "      <td>27.00000</td>\n",
       "      <td>34.000000</td>\n",
       "      <td>32.454653</td>\n",
       "      <td>50.696938</td>\n",
       "      <td>6.526654</td>\n",
       "      <td>95.048716</td>\n",
       "    </tr>\n",
       "    <tr>\n",
       "      <th>3</th>\n",
       "      <td>40.00000</td>\n",
       "      <td>61.00000</td>\n",
       "      <td>22.000000</td>\n",
       "      <td>20.949818</td>\n",
       "      <td>65.810876</td>\n",
       "      <td>7.002216</td>\n",
       "      <td>44.239130</td>\n",
       "    </tr>\n",
       "    <tr>\n",
       "      <th>4</th>\n",
       "      <td>28.00000</td>\n",
       "      <td>46.00000</td>\n",
       "      <td>16.000000</td>\n",
       "      <td>29.008124</td>\n",
       "      <td>84.960894</td>\n",
       "      <td>6.664188</td>\n",
       "      <td>45.910114</td>\n",
       "    </tr>\n",
       "  </tbody>\n",
       "</table>\n",
       "</div>"
      ],
      "text/plain": [
       "           N         P          K  temperature   humidity        ph   rainfall\n",
       "0   22.00000  51.00000  16.000000    27.965837  61.349001  8.639586  70.104721\n",
       "1  130.20691  59.20691  18.586179    25.123987  82.356124  6.707583  91.431992\n",
       "2   28.00000  27.00000  34.000000    32.454653  50.696938  6.526654  95.048716\n",
       "3   40.00000  61.00000  22.000000    20.949818  65.810876  7.002216  44.239130\n",
       "4   28.00000  46.00000  16.000000    29.008124  84.960894  6.664188  45.910114"
      ]
     },
     "execution_count": 154,
     "metadata": {},
     "output_type": "execute_result"
    }
   ],
   "source": [
    "test_data.head()"
   ]
  },
  {
   "cell_type": "code",
   "execution_count": 155,
   "metadata": {},
   "outputs": [
    {
     "data": {
      "text/html": [
       "<div>\n",
       "<style scoped>\n",
       "    .dataframe tbody tr th:only-of-type {\n",
       "        vertical-align: middle;\n",
       "    }\n",
       "\n",
       "    .dataframe tbody tr th {\n",
       "        vertical-align: top;\n",
       "    }\n",
       "\n",
       "    .dataframe thead th {\n",
       "        text-align: right;\n",
       "    }\n",
       "</style>\n",
       "<table border=\"1\" class=\"dataframe\">\n",
       "  <thead>\n",
       "    <tr style=\"text-align: right;\">\n",
       "      <th></th>\n",
       "      <th>N</th>\n",
       "      <th>P</th>\n",
       "      <th>K</th>\n",
       "      <th>temperature</th>\n",
       "      <th>humidity</th>\n",
       "      <th>ph</th>\n",
       "      <th>rainfall</th>\n",
       "    </tr>\n",
       "  </thead>\n",
       "  <tbody>\n",
       "    <tr>\n",
       "      <th>N</th>\n",
       "      <td>1.000000</td>\n",
       "      <td>-0.232892</td>\n",
       "      <td>-0.143022</td>\n",
       "      <td>0.014088</td>\n",
       "      <td>0.185919</td>\n",
       "      <td>0.080087</td>\n",
       "      <td>0.049705</td>\n",
       "    </tr>\n",
       "    <tr>\n",
       "      <th>P</th>\n",
       "      <td>-0.232892</td>\n",
       "      <td>1.000000</td>\n",
       "      <td>0.735456</td>\n",
       "      <td>-0.133283</td>\n",
       "      <td>-0.119861</td>\n",
       "      <td>-0.145958</td>\n",
       "      <td>-0.064344</td>\n",
       "    </tr>\n",
       "    <tr>\n",
       "      <th>K</th>\n",
       "      <td>-0.143022</td>\n",
       "      <td>0.735456</td>\n",
       "      <td>1.000000</td>\n",
       "      <td>-0.162041</td>\n",
       "      <td>0.188512</td>\n",
       "      <td>-0.193294</td>\n",
       "      <td>-0.054222</td>\n",
       "    </tr>\n",
       "    <tr>\n",
       "      <th>temperature</th>\n",
       "      <td>0.014088</td>\n",
       "      <td>-0.133283</td>\n",
       "      <td>-0.162041</td>\n",
       "      <td>1.000000</td>\n",
       "      <td>0.201797</td>\n",
       "      <td>-0.018037</td>\n",
       "      <td>0.000306</td>\n",
       "    </tr>\n",
       "    <tr>\n",
       "      <th>humidity</th>\n",
       "      <td>0.185919</td>\n",
       "      <td>-0.119861</td>\n",
       "      <td>0.188512</td>\n",
       "      <td>0.201797</td>\n",
       "      <td>1.000000</td>\n",
       "      <td>-0.011764</td>\n",
       "      <td>0.105829</td>\n",
       "    </tr>\n",
       "    <tr>\n",
       "      <th>ph</th>\n",
       "      <td>0.080087</td>\n",
       "      <td>-0.145958</td>\n",
       "      <td>-0.193294</td>\n",
       "      <td>-0.018037</td>\n",
       "      <td>-0.011764</td>\n",
       "      <td>1.000000</td>\n",
       "      <td>-0.138397</td>\n",
       "    </tr>\n",
       "    <tr>\n",
       "      <th>rainfall</th>\n",
       "      <td>0.049705</td>\n",
       "      <td>-0.064344</td>\n",
       "      <td>-0.054222</td>\n",
       "      <td>0.000306</td>\n",
       "      <td>0.105829</td>\n",
       "      <td>-0.138397</td>\n",
       "      <td>1.000000</td>\n",
       "    </tr>\n",
       "  </tbody>\n",
       "</table>\n",
       "</div>"
      ],
      "text/plain": [
       "                    N         P         K  temperature  humidity        ph  \\\n",
       "N            1.000000 -0.232892 -0.143022     0.014088  0.185919  0.080087   \n",
       "P           -0.232892  1.000000  0.735456    -0.133283 -0.119861 -0.145958   \n",
       "K           -0.143022  0.735456  1.000000    -0.162041  0.188512 -0.193294   \n",
       "temperature  0.014088 -0.133283 -0.162041     1.000000  0.201797 -0.018037   \n",
       "humidity     0.185919 -0.119861  0.188512     0.201797  1.000000 -0.011764   \n",
       "ph           0.080087 -0.145958 -0.193294    -0.018037 -0.011764  1.000000   \n",
       "rainfall     0.049705 -0.064344 -0.054222     0.000306  0.105829 -0.138397   \n",
       "\n",
       "             rainfall  \n",
       "N            0.049705  \n",
       "P           -0.064344  \n",
       "K           -0.054222  \n",
       "temperature  0.000306  \n",
       "humidity     0.105829  \n",
       "ph          -0.138397  \n",
       "rainfall     1.000000  "
      ]
     },
     "execution_count": 155,
     "metadata": {},
     "output_type": "execute_result"
    }
   ],
   "source": [
    "train_data.corr()"
   ]
  },
  {
   "cell_type": "code",
   "execution_count": 156,
   "metadata": {},
   "outputs": [],
   "source": [
    "from sklearn.preprocessing import LabelEncoder\n",
    "from sklearn.preprocessing import MinMaxScaler \n",
    "from sklearn.model_selection import GridSearchCV"
   ]
  },
  {
   "cell_type": "code",
   "execution_count": null,
   "metadata": {},
   "outputs": [],
   "source": []
  },
  {
   "cell_type": "code",
   "execution_count": 157,
   "metadata": {},
   "outputs": [
    {
     "data": {
      "text/plain": [
       "(1650, 8)"
      ]
     },
     "execution_count": 157,
     "metadata": {},
     "output_type": "execute_result"
    }
   ],
   "source": [
    "train_data.shape"
   ]
  },
  {
   "cell_type": "code",
   "execution_count": 158,
   "metadata": {},
   "outputs": [
    {
     "data": {
      "text/plain": [
       "N              0\n",
       "P              0\n",
       "K              0\n",
       "temperature    0\n",
       "humidity       0\n",
       "ph             0\n",
       "rainfall       0\n",
       "crop           0\n",
       "dtype: int64"
      ]
     },
     "execution_count": 158,
     "metadata": {},
     "output_type": "execute_result"
    }
   ],
   "source": [
    "train_data.isnull().sum()"
   ]
  },
  {
   "cell_type": "code",
   "execution_count": 159,
   "metadata": {},
   "outputs": [],
   "source": [
    "le=LabelEncoder()\n",
    "train_data.crop=le.fit_transform(train_data.crop)"
   ]
  },
  {
   "cell_type": "code",
   "execution_count": 160,
   "metadata": {},
   "outputs": [
    {
     "data": {
      "text/html": [
       "<div>\n",
       "<style scoped>\n",
       "    .dataframe tbody tr th:only-of-type {\n",
       "        vertical-align: middle;\n",
       "    }\n",
       "\n",
       "    .dataframe tbody tr th {\n",
       "        vertical-align: top;\n",
       "    }\n",
       "\n",
       "    .dataframe thead th {\n",
       "        text-align: right;\n",
       "    }\n",
       "</style>\n",
       "<table border=\"1\" class=\"dataframe\">\n",
       "  <thead>\n",
       "    <tr style=\"text-align: right;\">\n",
       "      <th></th>\n",
       "      <th>N</th>\n",
       "      <th>P</th>\n",
       "      <th>K</th>\n",
       "      <th>temperature</th>\n",
       "      <th>humidity</th>\n",
       "      <th>ph</th>\n",
       "      <th>rainfall</th>\n",
       "      <th>crop</th>\n",
       "    </tr>\n",
       "  </thead>\n",
       "  <tbody>\n",
       "    <tr>\n",
       "      <th>0</th>\n",
       "      <td>17.0</td>\n",
       "      <td>136.0</td>\n",
       "      <td>196.0</td>\n",
       "      <td>23.871923</td>\n",
       "      <td>90.499390</td>\n",
       "      <td>5.882156</td>\n",
       "      <td>103.054809</td>\n",
       "      <td>0</td>\n",
       "    </tr>\n",
       "    <tr>\n",
       "      <th>1</th>\n",
       "      <td>49.0</td>\n",
       "      <td>69.0</td>\n",
       "      <td>82.0</td>\n",
       "      <td>18.315615</td>\n",
       "      <td>15.361435</td>\n",
       "      <td>7.263119</td>\n",
       "      <td>81.787105</td>\n",
       "      <td>3</td>\n",
       "    </tr>\n",
       "    <tr>\n",
       "      <th>2</th>\n",
       "      <td>74.0</td>\n",
       "      <td>49.0</td>\n",
       "      <td>38.0</td>\n",
       "      <td>23.314104</td>\n",
       "      <td>71.450905</td>\n",
       "      <td>7.488014</td>\n",
       "      <td>164.497037</td>\n",
       "      <td>8</td>\n",
       "    </tr>\n",
       "    <tr>\n",
       "      <th>3</th>\n",
       "      <td>104.0</td>\n",
       "      <td>35.0</td>\n",
       "      <td>28.0</td>\n",
       "      <td>27.510061</td>\n",
       "      <td>50.666872</td>\n",
       "      <td>6.983732</td>\n",
       "      <td>143.995555</td>\n",
       "      <td>5</td>\n",
       "    </tr>\n",
       "    <tr>\n",
       "      <th>4</th>\n",
       "      <td>23.0</td>\n",
       "      <td>72.0</td>\n",
       "      <td>84.0</td>\n",
       "      <td>19.020613</td>\n",
       "      <td>17.131591</td>\n",
       "      <td>6.920251</td>\n",
       "      <td>79.926981</td>\n",
       "      <td>3</td>\n",
       "    </tr>\n",
       "  </tbody>\n",
       "</table>\n",
       "</div>"
      ],
      "text/plain": [
       "       N      P      K  temperature   humidity        ph    rainfall  crop\n",
       "0   17.0  136.0  196.0    23.871923  90.499390  5.882156  103.054809     0\n",
       "1   49.0   69.0   82.0    18.315615  15.361435  7.263119   81.787105     3\n",
       "2   74.0   49.0   38.0    23.314104  71.450905  7.488014  164.497037     8\n",
       "3  104.0   35.0   28.0    27.510061  50.666872  6.983732  143.995555     5\n",
       "4   23.0   72.0   84.0    19.020613  17.131591  6.920251   79.926981     3"
      ]
     },
     "execution_count": 160,
     "metadata": {},
     "output_type": "execute_result"
    }
   ],
   "source": [
    "train_data.head()"
   ]
  },
  {
   "cell_type": "code",
   "execution_count": 161,
   "metadata": {},
   "outputs": [
    {
     "data": {
      "text/html": [
       "<div>\n",
       "<style scoped>\n",
       "    .dataframe tbody tr th:only-of-type {\n",
       "        vertical-align: middle;\n",
       "    }\n",
       "\n",
       "    .dataframe tbody tr th {\n",
       "        vertical-align: top;\n",
       "    }\n",
       "\n",
       "    .dataframe thead th {\n",
       "        text-align: right;\n",
       "    }\n",
       "</style>\n",
       "<table border=\"1\" class=\"dataframe\">\n",
       "  <thead>\n",
       "    <tr style=\"text-align: right;\">\n",
       "      <th></th>\n",
       "      <th>N</th>\n",
       "      <th>P</th>\n",
       "      <th>K</th>\n",
       "      <th>temperature</th>\n",
       "      <th>humidity</th>\n",
       "      <th>ph</th>\n",
       "      <th>rainfall</th>\n",
       "      <th>crop</th>\n",
       "    </tr>\n",
       "  </thead>\n",
       "  <tbody>\n",
       "    <tr>\n",
       "      <th>N</th>\n",
       "      <td>1.000000</td>\n",
       "      <td>-0.232892</td>\n",
       "      <td>-0.143022</td>\n",
       "      <td>0.014088</td>\n",
       "      <td>0.185919</td>\n",
       "      <td>0.080087</td>\n",
       "      <td>0.049705</td>\n",
       "      <td>-0.032348</td>\n",
       "    </tr>\n",
       "    <tr>\n",
       "      <th>P</th>\n",
       "      <td>-0.232892</td>\n",
       "      <td>1.000000</td>\n",
       "      <td>0.735456</td>\n",
       "      <td>-0.133283</td>\n",
       "      <td>-0.119861</td>\n",
       "      <td>-0.145958</td>\n",
       "      <td>-0.064344</td>\n",
       "      <td>-0.487802</td>\n",
       "    </tr>\n",
       "    <tr>\n",
       "      <th>K</th>\n",
       "      <td>-0.143022</td>\n",
       "      <td>0.735456</td>\n",
       "      <td>1.000000</td>\n",
       "      <td>-0.162041</td>\n",
       "      <td>0.188512</td>\n",
       "      <td>-0.193294</td>\n",
       "      <td>-0.054222</td>\n",
       "      <td>-0.346647</td>\n",
       "    </tr>\n",
       "    <tr>\n",
       "      <th>temperature</th>\n",
       "      <td>0.014088</td>\n",
       "      <td>-0.133283</td>\n",
       "      <td>-0.162041</td>\n",
       "      <td>1.000000</td>\n",
       "      <td>0.201797</td>\n",
       "      <td>-0.018037</td>\n",
       "      <td>0.000306</td>\n",
       "      <td>0.115894</td>\n",
       "    </tr>\n",
       "    <tr>\n",
       "      <th>humidity</th>\n",
       "      <td>0.185919</td>\n",
       "      <td>-0.119861</td>\n",
       "      <td>0.188512</td>\n",
       "      <td>0.201797</td>\n",
       "      <td>1.000000</td>\n",
       "      <td>-0.011764</td>\n",
       "      <td>0.105829</td>\n",
       "      <td>0.196417</td>\n",
       "    </tr>\n",
       "    <tr>\n",
       "      <th>ph</th>\n",
       "      <td>0.080087</td>\n",
       "      <td>-0.145958</td>\n",
       "      <td>-0.193294</td>\n",
       "      <td>-0.018037</td>\n",
       "      <td>-0.011764</td>\n",
       "      <td>1.000000</td>\n",
       "      <td>-0.138397</td>\n",
       "      <td>0.004351</td>\n",
       "    </tr>\n",
       "    <tr>\n",
       "      <th>rainfall</th>\n",
       "      <td>0.049705</td>\n",
       "      <td>-0.064344</td>\n",
       "      <td>-0.054222</td>\n",
       "      <td>0.000306</td>\n",
       "      <td>0.105829</td>\n",
       "      <td>-0.138397</td>\n",
       "      <td>1.000000</td>\n",
       "      <td>0.051488</td>\n",
       "    </tr>\n",
       "    <tr>\n",
       "      <th>crop</th>\n",
       "      <td>-0.032348</td>\n",
       "      <td>-0.487802</td>\n",
       "      <td>-0.346647</td>\n",
       "      <td>0.115894</td>\n",
       "      <td>0.196417</td>\n",
       "      <td>0.004351</td>\n",
       "      <td>0.051488</td>\n",
       "      <td>1.000000</td>\n",
       "    </tr>\n",
       "  </tbody>\n",
       "</table>\n",
       "</div>"
      ],
      "text/plain": [
       "                    N         P         K  temperature  humidity        ph  \\\n",
       "N            1.000000 -0.232892 -0.143022     0.014088  0.185919  0.080087   \n",
       "P           -0.232892  1.000000  0.735456    -0.133283 -0.119861 -0.145958   \n",
       "K           -0.143022  0.735456  1.000000    -0.162041  0.188512 -0.193294   \n",
       "temperature  0.014088 -0.133283 -0.162041     1.000000  0.201797 -0.018037   \n",
       "humidity     0.185919 -0.119861  0.188512     0.201797  1.000000 -0.011764   \n",
       "ph           0.080087 -0.145958 -0.193294    -0.018037 -0.011764  1.000000   \n",
       "rainfall     0.049705 -0.064344 -0.054222     0.000306  0.105829 -0.138397   \n",
       "crop        -0.032348 -0.487802 -0.346647     0.115894  0.196417  0.004351   \n",
       "\n",
       "             rainfall      crop  \n",
       "N            0.049705 -0.032348  \n",
       "P           -0.064344 -0.487802  \n",
       "K           -0.054222 -0.346647  \n",
       "temperature  0.000306  0.115894  \n",
       "humidity     0.105829  0.196417  \n",
       "ph          -0.138397  0.004351  \n",
       "rainfall     1.000000  0.051488  \n",
       "crop         0.051488  1.000000  "
      ]
     },
     "execution_count": 161,
     "metadata": {},
     "output_type": "execute_result"
    }
   ],
   "source": [
    "train_data.corr()"
   ]
  },
  {
   "cell_type": "code",
   "execution_count": 162,
   "metadata": {},
   "outputs": [
    {
     "name": "stdout",
     "output_type": "stream",
     "text": [
      "Sklearn label encoder results for crop:\n",
      "{'apple': 0, 'banana': 1, 'blackgram': 2, 'chickpea': 3, 'coconut': 4, 'coffee': 5, 'cotton': 6, 'grapes': 7, 'jute': 8, 'kidneybeans': 9, 'lentil': 10, 'maize': 11, 'mango': 12, 'mothbeans': 13, 'mungbean': 14, 'muskmelon': 15, 'orange': 16, 'papaya': 17, 'pigeonpeas': 18, 'pomegranate': 19, 'rice': 20, 'watermelon': 21}\n"
     ]
    }
   ],
   "source": [
    "le_crop = dict(zip(le.classes_, le.transform(le.classes_)))\n",
    "print(\"Sklearn label encoder results for crop:\") \n",
    "print(le_crop)"
   ]
  },
  {
   "cell_type": "code",
   "execution_count": 163,
   "metadata": {},
   "outputs": [
    {
     "data": {
      "text/plain": [
       "<matplotlib.axes._subplots.AxesSubplot at 0x254f5015850>"
      ]
     },
     "execution_count": 163,
     "metadata": {},
     "output_type": "execute_result"
    },
    {
     "data": {
      "image/png": "[encoded data removed]",
      "text/plain": [
       "<Figure size 864x576 with 2 Axes>"
      ]
     },
     "metadata": {
      "needs_background": "light"
     },
     "output_type": "display_data"
    }
   ],
   "source": [
    "import matplotlib.pyplot as plt\n",
    "import seaborn as sns\n",
    "plt.figure(figsize=(12,8))\n",
    "sns.heatmap(train_data.corr(),annot=True)"
   ]
  },
  {
   "cell_type": "code",
   "execution_count": 164,
   "metadata": {},
   "outputs": [],
   "source": [
    "x=train_data.drop('crop',axis=1).values\n",
    "y=train_data['crop'].values"
   ]
  },
  {
   "cell_type": "code",
   "execution_count": 165,
   "metadata": {},
   "outputs": [],
   "source": [
    "from sklearn.model_selection import train_test_split\n",
    "from sklearn.ensemble import RandomForestClassifier\n",
    "#from xgboost import XGBRegressor\n",
    "from sklearn.linear_model import LogisticRegression\n",
    "from sklearn.naive_bayes import MultinomialNB\n",
    "from sklearn import svm"
   ]
  },
  {
   "cell_type": "code",
   "execution_count": null,
   "metadata": {},
   "outputs": [],
   "source": []
  },
  {
   "cell_type": "code",
   "execution_count": 166,
   "metadata": {},
   "outputs": [],
   "source": [
    "model_params={\n",
    "    'svm':{\n",
    "        'model':svm.SVC(gamma='auto'),\n",
    "        'params':{\n",
    "        'C':[1,5,10,20],\n",
    "        'kernel':['rbf','linear']\n",
    "        }\n",
    "    },\n",
    "    'random_forest':{\n",
    "        'model':RandomForestClassifier(),\n",
    "        'params':{\n",
    "        'n_estimators':[1,5,10,15,16,17,18,19,20,21,22,23,24,25,26,27,28,29,30]\n",
    "        }\n",
    "    },\n",
    "    'logistic_regression':{\n",
    "        'model':LogisticRegression(solver='liblinear',multi_class='auto'),\n",
    "        'params':{\n",
    "            'C':[1,2,5,10,15,20]\n",
    "             \n",
    "        }\n",
    "    },\n",
    "    'naive_bayes_multinomial':{\n",
    "        'model':MultinomialNB(),\n",
    "        'params':{}\n",
    "    }\n",
    "    \n",
    "}"
   ]
  },
  {
   "cell_type": "code",
   "execution_count": 167,
   "metadata": {},
   "outputs": [
    {
     "data": {
      "text/html": [
       "<div>\n",
       "<style scoped>\n",
       "    .dataframe tbody tr th:only-of-type {\n",
       "        vertical-align: middle;\n",
       "    }\n",
       "\n",
       "    .dataframe tbody tr th {\n",
       "        vertical-align: top;\n",
       "    }\n",
       "\n",
       "    .dataframe thead th {\n",
       "        text-align: right;\n",
       "    }\n",
       "</style>\n",
       "<table border=\"1\" class=\"dataframe\">\n",
       "  <thead>\n",
       "    <tr style=\"text-align: right;\">\n",
       "      <th></th>\n",
       "      <th>model</th>\n",
       "      <th>best_score</th>\n",
       "      <th>best_params</th>\n",
       "    </tr>\n",
       "  </thead>\n",
       "  <tbody>\n",
       "    <tr>\n",
       "      <th>0</th>\n",
       "      <td>svm</td>\n",
       "      <td>0.987888</td>\n",
       "      <td>{'C': 20, 'kernel': 'linear'}</td>\n",
       "    </tr>\n",
       "    <tr>\n",
       "      <th>1</th>\n",
       "      <td>random_forest</td>\n",
       "      <td>0.995959</td>\n",
       "      <td>{'n_estimators': 26}</td>\n",
       "    </tr>\n",
       "    <tr>\n",
       "      <th>2</th>\n",
       "      <td>logistic_regression</td>\n",
       "      <td>0.956346</td>\n",
       "      <td>{'C': 20}</td>\n",
       "    </tr>\n",
       "    <tr>\n",
       "      <th>3</th>\n",
       "      <td>naive_bayes_multinomial</td>\n",
       "      <td>0.721925</td>\n",
       "      <td>{}</td>\n",
       "    </tr>\n",
       "  </tbody>\n",
       "</table>\n",
       "</div>"
      ],
      "text/plain": [
       "                     model  best_score                    best_params\n",
       "0                      svm    0.987888  {'C': 20, 'kernel': 'linear'}\n",
       "1            random_forest    0.995959           {'n_estimators': 26}\n",
       "2      logistic_regression    0.956346                      {'C': 20}\n",
       "3  naive_bayes_multinomial    0.721925                             {}"
      ]
     },
     "execution_count": 167,
     "metadata": {},
     "output_type": "execute_result"
    }
   ],
   "source": [
    "scores=[]\n",
    "for model_name, mp in model_params.items():\n",
    "    clf=GridSearchCV(mp['model'], mp['params'], cv=6, return_train_score=False)\n",
    "    clf.fit(x_train, y_train)\n",
    "    scores.append({\n",
    "    'model': model_name,\n",
    "\n",
    "    'best_score': clf.best_score_,\n",
    "    'best_params': clf.best_params_\n",
    "    })\n",
    "\n",
    "    df = pd.DataFrame(scores,columns=['model','best_score','best_params'])\n",
    "df"
   ]
  },
  {
   "cell_type": "code",
   "execution_count": 168,
   "metadata": {},
   "outputs": [],
   "source": [
    "x_train,x_val,y_train,y_val=train_test_split(x,y,test_size=0.25,random_state=42)"
   ]
  },
  {
   "cell_type": "code",
   "execution_count": 169,
   "metadata": {},
   "outputs": [],
   "source": [
    "scaler=MinMaxScaler()"
   ]
  },
  {
   "cell_type": "code",
   "execution_count": 170,
   "metadata": {},
   "outputs": [],
   "source": [
    "x_train=scaler.fit_transform(x_train)\n",
    "x_val=scaler.transform(x_val)"
   ]
  },
  {
   "cell_type": "code",
   "execution_count": 171,
   "metadata": {},
   "outputs": [],
   "source": [
    "from sklearn.metrics import accuracy_score"
   ]
  },
  {
   "cell_type": "code",
   "execution_count": 172,
   "metadata": {},
   "outputs": [],
   "source": [
    "test_data=scaler.transform(test_data)"
   ]
  },
  {
   "cell_type": "code",
   "execution_count": null,
   "metadata": {},
   "outputs": [],
   "source": []
  },
  {
   "cell_type": "code",
   "execution_count": 173,
   "metadata": {},
   "outputs": [
    {
     "data": {
      "text/plain": [
       "RandomForestClassifier(n_estimators=26)"
      ]
     },
     "execution_count": 173,
     "metadata": {},
     "output_type": "execute_result"
    }
   ],
   "source": [
    "model=RandomForestClassifier(n_estimators=26)\n",
    "model.fit(x_train,y_train)"
   ]
  },
  {
   "cell_type": "code",
   "execution_count": 174,
   "metadata": {},
   "outputs": [],
   "source": [
    "pred=model.predict(x_val)"
   ]
  },
  {
   "cell_type": "code",
   "execution_count": 175,
   "metadata": {},
   "outputs": [
    {
     "data": {
      "text/plain": [
       "array([ 4, 17, 18,  9, 16, 13,  2, 19, 18,  3,  8,  1, 15,  2,  0,  2,  3,\n",
       "        8, 16,  2, 20, 20,  9,  1, 18,  5, 14,  5,  8,  6,  2, 11, 12,  7,\n",
       "        3,  9,  4,  1,  6,  8, 18, 19, 17,  8, 12, 15,  1, 19,  8, 10,  3,\n",
       "       15, 14, 14, 21, 17,  9,  0,  7,  1, 12,  7,  0, 20, 11, 11, 14, 14,\n",
       "       16, 14,  4, 15,  0, 17, 11, 18, 10, 18, 10,  2, 15,  2, 11, 11,  2,\n",
       "        7, 17, 14,  5, 18, 11, 12, 14, 12,  3, 17,  5, 13, 20, 13, 10, 20,\n",
       "       21,  1, 13, 14, 13, 19, 11, 21, 18,  2, 12,  7,  5, 20, 10,  3,  0,\n",
       "       15, 10,  5,  5,  3, 12, 11, 14,  1, 14,  0, 14, 10, 17, 14, 11,  9,\n",
       "        7, 17, 12, 15,  7, 11, 12, 20, 18, 17,  9, 14,  4, 21, 14, 12, 12,\n",
       "        5,  3, 15, 17,  7, 19,  6, 11,  3, 17, 18, 10, 16, 10, 21,  0, 11,\n",
       "        6, 15,  1, 13, 15, 13,  4,  3,  0,  9,  3, 17, 17, 20, 21,  8,  5,\n",
       "        3, 21,  7, 11,  5, 11,  8, 14,  3,  2,  9, 14,  0, 17, 11,  6,  2,\n",
       "        1, 14,  9, 18,  1, 16,  7, 20,  8,  5, 11, 12,  7, 21,  3,  0, 17,\n",
       "        6, 13,  9,  4,  9,  3,  7,  5, 17, 18,  7, 11,  5, 10, 11, 18,  7,\n",
       "       15,  0, 16, 11,  0, 18,  8, 14,  7, 11, 17,  4,  6, 18,  7, 17,  0,\n",
       "        1, 10, 17, 17, 20, 19, 13, 21, 16, 10, 10,  2, 19, 21,  0,  6, 21,\n",
       "       13, 20, 15,  6, 12,  2,  2,  6, 11,  5, 18, 20, 12, 18, 16, 21,  2,\n",
       "       17,  1, 14,  3,  7, 15,  4, 13, 12,  0,  2,  5, 20, 14, 13,  9, 12,\n",
       "       21,  9, 11,  6,  3, 17,  9,  8,  7,  9, 16, 21,  7,  2, 12, 13,  1,\n",
       "       12,  5,  6, 13, 17, 13,  4, 14,  3,  7,  6, 18, 20, 13,  5,  0, 18,\n",
       "        9,  3, 19, 17, 10, 11, 16, 15,  0, 20,  2,  9,  6,  1, 11,  5,  7,\n",
       "        4, 16, 19,  0,  4, 15, 18,  3, 15,  2, 19, 14,  4, 20,  5,  3, 19,\n",
       "        4, 12,  8, 19, 19,  9, 15, 10,  0, 12, 18,  1,  2,  4, 14, 14, 12,\n",
       "       10, 12,  9,  6,  6,  0,  2,  3,  0,  3, 16, 18, 10,  6,  0, 14, 18,\n",
       "       16,  8,  4,  9, 15])"
      ]
     },
     "execution_count": 175,
     "metadata": {},
     "output_type": "execute_result"
    }
   ],
   "source": [
    "pred"
   ]
  },
  {
   "cell_type": "code",
   "execution_count": null,
   "metadata": {},
   "outputs": [],
   "source": []
  },
  {
   "cell_type": "code",
   "execution_count": 176,
   "metadata": {},
   "outputs": [
    {
     "name": "stdout",
     "output_type": "stream",
     "text": [
      "Accuracy Score is:  1.0\n"
     ]
    }
   ],
   "source": [
    "print('Accuracy Score is: ', accuracy_score(y_val, pred))"
   ]
  },
  {
   "cell_type": "code",
   "execution_count": 177,
   "metadata": {},
   "outputs": [
    {
     "data": {
      "text/plain": [
       "array([[2.79411765e-01, 7.14285714e-03, 1.00000000e-01, ...,\n",
       "        9.64364570e-01, 4.10453359e-01, 6.14267652e-01],\n",
       "       [4.26470588e-01, 3.57142857e-01, 2.10000000e-01, ...,\n",
       "        9.26596822e-01, 5.01912970e-01, 7.91873352e-01],\n",
       "       [2.50000000e-01, 5.00000000e-01, 9.50000000e-02, ...,\n",
       "        4.31845354e-01, 1.92624802e-01, 6.17873882e-01],\n",
       "       ...,\n",
       "       [1.75674889e-01, 2.59328212e-02, 1.35270538e-01, ...,\n",
       "        9.34757953e-01, 3.65412797e-01, 6.47028760e-01],\n",
       "       [1.92851123e-01, 4.82708468e-01, 8.66214180e-02, ...,\n",
       "        8.92110832e-02, 3.80220520e-01, 1.57846629e-01],\n",
       "       [7.51526752e-01, 1.41374012e-01, 2.25519096e-01, ...,\n",
       "        9.18669826e-01, 4.03136777e-01, 3.08472236e-05]])"
      ]
     },
     "execution_count": 177,
     "metadata": {},
     "output_type": "execute_result"
    }
   ],
   "source": [
    "x_val"
   ]
  },
  {
   "cell_type": "code",
   "execution_count": 178,
   "metadata": {},
   "outputs": [],
   "source": [
    "predicted=model.predict(test_data)"
   ]
  },
  {
   "cell_type": "code",
   "execution_count": 179,
   "metadata": {},
   "outputs": [
    {
     "data": {
      "text/plain": [
       "array([13,  6, 12, 10, 14,  5, 10,  6, 10, 10,  8, 13, 16,  1,  4, 15,  7,\n",
       "        5, 21, 14,  4, 20, 13, 11,  0, 16, 20, 21, 19, 13,  9, 14,  1, 17,\n",
       "        2,  3,  9,  4, 10, 17,  7,  7, 20,  3,  7, 18, 21, 18, 21, 12, 11,\n",
       "       12,  7, 18, 20,  9,  0,  4, 21,  0, 14,  5, 21, 14,  0,  9, 16,  7,\n",
       "       21,  4, 11, 19,  6,  0, 11,  8, 13,  6,  6, 18, 18, 13,  1,  0,  9,\n",
       "        6,  1,  3,  0, 11,  7, 16, 19,  2, 21, 13,  7,  0,  3, 16, 16, 15,\n",
       "        4,  8, 16,  6, 18,  6,  6, 12, 19,  3, 11, 13,  5,  9,  1,  4, 10,\n",
       "        8,  2,  5,  9, 14,  6, 17, 21,  4, 17,  2, 20, 13, 15, 13, 20, 14,\n",
       "       19, 18,  5,  5, 12,  8,  8,  6,  3,  3, 17, 13, 16,  0,  5, 14, 11,\n",
       "        3,  2, 10, 16,  9, 19, 17,  2, 12, 19,  8, 18, 13,  3, 15,  3, 10,\n",
       "       12,  4,  1,  5, 20, 12, 21, 21,  8,  4, 18, 17, 20, 16,  6,  2, 18,\n",
       "       12, 12,  2,  8, 16, 17, 11, 11,  6, 17, 15,  0,  5,  4, 21, 15, 15,\n",
       "        4,  3, 11, 14,  6, 15, 13, 20, 10, 20,  9,  7, 18, 10,  8,  7, 11,\n",
       "       11, 15, 12, 14,  1, 17, 20, 16,  3,  7,  1,  2, 14, 16, 15, 13, 14,\n",
       "       13,  7,  8, 15, 15, 11, 20, 19,  1,  1, 19,  4, 19, 17,  2, 21,  9,\n",
       "       14, 13,  4, 16, 21,  7,  0, 11, 16,  9,  2, 16, 18, 17, 16,  9, 10,\n",
       "        7,  8, 15, 15,  1,  2, 16, 15, 18,  7,  3, 12, 16,  5,  0,  6, 13,\n",
       "        2, 10, 16, 17,  6, 17, 10,  5,  0, 21,  1, 11, 19,  7,  8,  5, 19,\n",
       "        9, 13,  6,  3, 17, 19, 19, 21,  7,  6, 14, 21, 20,  6, 14,  9, 21,\n",
       "        1,  3,  5, 18, 13, 12, 14,  5, 20, 15, 18,  8, 21,  7,  2, 12, 21,\n",
       "        5, 20,  3,  4,  5, 14, 10,  8, 19, 18, 20,  6, 18,  1,  3,  1,  2,\n",
       "        9,  4,  7,  8, 17, 14, 11,  4,  3, 19, 15, 19,  7,  3,  9,  3,  2,\n",
       "        9,  5, 12,  7, 17,  4,  4,  0,  9, 11,  4,  1,  6, 15,  8, 20,  6,\n",
       "       19,  0,  9,  0, 12,  4, 11,  5, 12, 20, 14,  5, 19, 10,  5,  9,  7,\n",
       "       19,  9, 19, 20, 18,  3, 18, 10,  2, 12, 17, 18,  0,  6, 10,  7,  2,\n",
       "       17, 17, 18, 15, 17, 19,  1, 13, 14, 11, 14,  7, 18,  9,  0, 11,  0,\n",
       "       13,  5,  2,  5, 20,  3, 15, 14,  8,  3, 20,  9,  8, 12, 15, 16, 12,\n",
       "        1,  8, 15, 20, 21, 17,  7, 14,  5, 19,  6, 12, 10, 17, 21, 13, 12,\n",
       "        8, 20, 13, 10,  0, 18,  1,  2, 10, 10,  1, 12, 12,  0,  5, 21,  4,\n",
       "       18, 10, 10,  1,  2, 16,  1,  6,  4, 21,  0,  2, 14,  8, 11,  8, 19,\n",
       "       16, 19, 16,  9,  2, 18, 21,  1, 15, 20, 12, 17, 10, 11,  1,  9, 10,\n",
       "        2, 16,  8,  8, 17, 13,  0,  8,  2,  0, 11, 11, 13, 15,  1, 11,  3,\n",
       "       15,  3,  4,  4,  0, 14])"
      ]
     },
     "execution_count": 179,
     "metadata": {},
     "output_type": "execute_result"
    }
   ],
   "source": [
    "predicted"
   ]
  },
  {
   "cell_type": "code",
   "execution_count": 180,
   "metadata": {},
   "outputs": [
    {
     "data": {
      "text/plain": [
       "array(['mothbeans', 'cotton', 'mango', 'lentil', 'mungbean', 'coffee',\n",
       "       'lentil', 'cotton', 'lentil', 'lentil', 'jute', 'mothbeans',\n",
       "       'orange', 'banana', 'coconut', 'muskmelon', 'grapes', 'coffee',\n",
       "       'watermelon', 'mungbean', 'coconut', 'rice', 'mothbeans', 'maize',\n",
       "       'apple', 'orange', 'rice', 'watermelon', 'pomegranate',\n",
       "       'mothbeans', 'kidneybeans', 'mungbean', 'banana', 'papaya',\n",
       "       'blackgram', 'chickpea', 'kidneybeans', 'coconut', 'lentil',\n",
       "       'papaya', 'grapes', 'grapes', 'rice', 'chickpea', 'grapes',\n",
       "       'pigeonpeas', 'watermelon', 'pigeonpeas', 'watermelon', 'mango',\n",
       "       'maize', 'mango', 'grapes', 'pigeonpeas', 'rice', 'kidneybeans',\n",
       "       'apple', 'coconut', 'watermelon', 'apple', 'mungbean', 'coffee',\n",
       "       'watermelon', 'mungbean', 'apple', 'kidneybeans', 'orange',\n",
       "       'grapes', 'watermelon', 'coconut', 'maize', 'pomegranate',\n",
       "       'cotton', 'apple', 'maize', 'jute', 'mothbeans', 'cotton',\n",
       "       'cotton', 'pigeonpeas', 'pigeonpeas', 'mothbeans', 'banana',\n",
       "       'apple', 'kidneybeans', 'cotton', 'banana', 'chickpea', 'apple',\n",
       "       'maize', 'grapes', 'orange', 'pomegranate', 'blackgram',\n",
       "       'watermelon', 'mothbeans', 'grapes', 'apple', 'chickpea', 'orange',\n",
       "       'orange', 'muskmelon', 'coconut', 'jute', 'orange', 'cotton',\n",
       "       'pigeonpeas', 'cotton', 'cotton', 'mango', 'pomegranate',\n",
       "       'chickpea', 'maize', 'mothbeans', 'coffee', 'kidneybeans',\n",
       "       'banana', 'coconut', 'lentil', 'jute', 'blackgram', 'coffee',\n",
       "       'kidneybeans', 'mungbean', 'cotton', 'papaya', 'watermelon',\n",
       "       'coconut', 'papaya', 'blackgram', 'rice', 'mothbeans', 'muskmelon',\n",
       "       'mothbeans', 'rice', 'mungbean', 'pomegranate', 'pigeonpeas',\n",
       "       'coffee', 'coffee', 'mango', 'jute', 'jute', 'cotton', 'chickpea',\n",
       "       'chickpea', 'papaya', 'mothbeans', 'orange', 'apple', 'coffee',\n",
       "       'mungbean', 'maize', 'chickpea', 'blackgram', 'lentil', 'orange',\n",
       "       'kidneybeans', 'pomegranate', 'papaya', 'blackgram', 'mango',\n",
       "       'pomegranate', 'jute', 'pigeonpeas', 'mothbeans', 'chickpea',\n",
       "       'muskmelon', 'chickpea', 'lentil', 'mango', 'coconut', 'banana',\n",
       "       'coffee', 'rice', 'mango', 'watermelon', 'watermelon', 'jute',\n",
       "       'coconut', 'pigeonpeas', 'papaya', 'rice', 'orange', 'cotton',\n",
       "       'blackgram', 'pigeonpeas', 'mango', 'mango', 'blackgram', 'jute',\n",
       "       'orange', 'papaya', 'maize', 'maize', 'cotton', 'papaya',\n",
       "       'muskmelon', 'apple', 'coffee', 'coconut', 'watermelon',\n",
       "       'muskmelon', 'muskmelon', 'coconut', 'chickpea', 'maize',\n",
       "       'mungbean', 'cotton', 'muskmelon', 'mothbeans', 'rice', 'lentil',\n",
       "       'rice', 'kidneybeans', 'grapes', 'pigeonpeas', 'lentil', 'jute',\n",
       "       'grapes', 'maize', 'maize', 'muskmelon', 'mango', 'mungbean',\n",
       "       'banana', 'papaya', 'rice', 'orange', 'chickpea', 'grapes',\n",
       "       'banana', 'blackgram', 'mungbean', 'orange', 'muskmelon',\n",
       "       'mothbeans', 'mungbean', 'mothbeans', 'grapes', 'jute',\n",
       "       'muskmelon', 'muskmelon', 'maize', 'rice', 'pomegranate', 'banana',\n",
       "       'banana', 'pomegranate', 'coconut', 'pomegranate', 'papaya',\n",
       "       'blackgram', 'watermelon', 'kidneybeans', 'mungbean', 'mothbeans',\n",
       "       'coconut', 'orange', 'watermelon', 'grapes', 'apple', 'maize',\n",
       "       'orange', 'kidneybeans', 'blackgram', 'orange', 'pigeonpeas',\n",
       "       'papaya', 'orange', 'kidneybeans', 'lentil', 'grapes', 'jute',\n",
       "       'muskmelon', 'muskmelon', 'banana', 'blackgram', 'orange',\n",
       "       'muskmelon', 'pigeonpeas', 'grapes', 'chickpea', 'mango', 'orange',\n",
       "       'coffee', 'apple', 'cotton', 'mothbeans', 'blackgram', 'lentil',\n",
       "       'orange', 'papaya', 'cotton', 'papaya', 'lentil', 'coffee',\n",
       "       'apple', 'watermelon', 'banana', 'maize', 'pomegranate', 'grapes',\n",
       "       'jute', 'coffee', 'pomegranate', 'kidneybeans', 'mothbeans',\n",
       "       'cotton', 'chickpea', 'papaya', 'pomegranate', 'pomegranate',\n",
       "       'watermelon', 'grapes', 'cotton', 'mungbean', 'watermelon', 'rice',\n",
       "       'cotton', 'mungbean', 'kidneybeans', 'watermelon', 'banana',\n",
       "       'chickpea', 'coffee', 'pigeonpeas', 'mothbeans', 'mango',\n",
       "       'mungbean', 'coffee', 'rice', 'muskmelon', 'pigeonpeas', 'jute',\n",
       "       'watermelon', 'grapes', 'blackgram', 'mango', 'watermelon',\n",
       "       'coffee', 'rice', 'chickpea', 'coconut', 'coffee', 'mungbean',\n",
       "       'lentil', 'jute', 'pomegranate', 'pigeonpeas', 'rice', 'cotton',\n",
       "       'pigeonpeas', 'banana', 'chickpea', 'banana', 'blackgram',\n",
       "       'kidneybeans', 'coconut', 'grapes', 'jute', 'papaya', 'mungbean',\n",
       "       'maize', 'coconut', 'chickpea', 'pomegranate', 'muskmelon',\n",
       "       'pomegranate', 'grapes', 'chickpea', 'kidneybeans', 'chickpea',\n",
       "       'blackgram', 'kidneybeans', 'coffee', 'mango', 'grapes', 'papaya',\n",
       "       'coconut', 'coconut', 'apple', 'kidneybeans', 'maize', 'coconut',\n",
       "       'banana', 'cotton', 'muskmelon', 'jute', 'rice', 'cotton',\n",
       "       'pomegranate', 'apple', 'kidneybeans', 'apple', 'mango', 'coconut',\n",
       "       'maize', 'coffee', 'mango', 'rice', 'mungbean', 'coffee',\n",
       "       'pomegranate', 'lentil', 'coffee', 'kidneybeans', 'grapes',\n",
       "       'pomegranate', 'kidneybeans', 'pomegranate', 'rice', 'pigeonpeas',\n",
       "       'chickpea', 'pigeonpeas', 'lentil', 'blackgram', 'mango', 'papaya',\n",
       "       'pigeonpeas', 'apple', 'cotton', 'lentil', 'grapes', 'blackgram',\n",
       "       'papaya', 'papaya', 'pigeonpeas', 'muskmelon', 'papaya',\n",
       "       'pomegranate', 'banana', 'mothbeans', 'mungbean', 'maize',\n",
       "       'mungbean', 'grapes', 'pigeonpeas', 'kidneybeans', 'apple',\n",
       "       'maize', 'apple', 'mothbeans', 'coffee', 'blackgram', 'coffee',\n",
       "       'rice', 'chickpea', 'muskmelon', 'mungbean', 'jute', 'chickpea',\n",
       "       'rice', 'kidneybeans', 'jute', 'mango', 'muskmelon', 'orange',\n",
       "       'mango', 'banana', 'jute', 'muskmelon', 'rice', 'watermelon',\n",
       "       'papaya', 'grapes', 'mungbean', 'coffee', 'pomegranate', 'cotton',\n",
       "       'mango', 'lentil', 'papaya', 'watermelon', 'mothbeans', 'mango',\n",
       "       'jute', 'rice', 'mothbeans', 'lentil', 'apple', 'pigeonpeas',\n",
       "       'banana', 'blackgram', 'lentil', 'lentil', 'banana', 'mango',\n",
       "       'mango', 'apple', 'coffee', 'watermelon', 'coconut', 'pigeonpeas',\n",
       "       'lentil', 'lentil', 'banana', 'blackgram', 'orange', 'banana',\n",
       "       'cotton', 'coconut', 'watermelon', 'apple', 'blackgram',\n",
       "       'mungbean', 'jute', 'maize', 'jute', 'pomegranate', 'orange',\n",
       "       'pomegranate', 'orange', 'kidneybeans', 'blackgram', 'pigeonpeas',\n",
       "       'watermelon', 'banana', 'muskmelon', 'rice', 'mango', 'papaya',\n",
       "       'lentil', 'maize', 'banana', 'kidneybeans', 'lentil', 'blackgram',\n",
       "       'orange', 'jute', 'jute', 'papaya', 'mothbeans', 'apple', 'jute',\n",
       "       'blackgram', 'apple', 'maize', 'maize', 'mothbeans', 'muskmelon',\n",
       "       'banana', 'maize', 'chickpea', 'muskmelon', 'chickpea', 'coconut',\n",
       "       'coconut', 'apple', 'mungbean'], dtype=object)"
      ]
     },
     "execution_count": 180,
     "metadata": {},
     "output_type": "execute_result"
    }
   ],
   "source": [
    "predicted = le.inverse_transform(predicted)\n",
    "predicted"
   ]
  },
  {
   "cell_type": "code",
   "execution_count": null,
   "metadata": {},
   "outputs": [],
   "source": []
  },
  {
   "cell_type": "code",
   "execution_count": 181,
   "metadata": {},
   "outputs": [],
   "source": [
    "result=pd.DataFrame(predicted)\n",
    "result.columns=['prediction']"
   ]
  },
  {
   "cell_type": "code",
   "execution_count": 182,
   "metadata": {},
   "outputs": [],
   "source": [
    "submission=result\n",
    "submission.to_csv('submissions.csv',index=False)"
   ]
  },
  {
   "cell_type": "code",
   "execution_count": 183,
   "metadata": {},
   "outputs": [
    {
     "data": {
      "text/html": [
       "<div>\n",
       "<style scoped>\n",
       "    .dataframe tbody tr th:only-of-type {\n",
       "        vertical-align: middle;\n",
       "    }\n",
       "\n",
       "    .dataframe tbody tr th {\n",
       "        vertical-align: top;\n",
       "    }\n",
       "\n",
       "    .dataframe thead th {\n",
       "        text-align: right;\n",
       "    }\n",
       "</style>\n",
       "<table border=\"1\" class=\"dataframe\">\n",
       "  <thead>\n",
       "    <tr style=\"text-align: right;\">\n",
       "      <th></th>\n",
       "      <th>prediction</th>\n",
       "    </tr>\n",
       "  </thead>\n",
       "  <tbody>\n",
       "    <tr>\n",
       "      <th>0</th>\n",
       "      <td>mothbeans</td>\n",
       "    </tr>\n",
       "    <tr>\n",
       "      <th>1</th>\n",
       "      <td>cotton</td>\n",
       "    </tr>\n",
       "    <tr>\n",
       "      <th>2</th>\n",
       "      <td>mango</td>\n",
       "    </tr>\n",
       "    <tr>\n",
       "      <th>3</th>\n",
       "      <td>lentil</td>\n",
       "    </tr>\n",
       "    <tr>\n",
       "      <th>4</th>\n",
       "      <td>mungbean</td>\n",
       "    </tr>\n",
       "  </tbody>\n",
       "</table>\n",
       "</div>"
      ],
      "text/plain": [
       "  prediction\n",
       "0  mothbeans\n",
       "1     cotton\n",
       "2      mango\n",
       "3     lentil\n",
       "4   mungbean"
      ]
     },
     "execution_count": 183,
     "metadata": {},
     "output_type": "execute_result"
    }
   ],
   "source": [
    "submissions.head()"
   ]
  },
  {
   "cell_type": "code",
   "execution_count": null,
   "metadata": {},
   "outputs": [],
   "source": []
  }
 ],
 "metadata": {
  "kernelspec": {
   "display_name": "Python 3",
   "language": "python",
   "name": "python3"
  },
  "language_info": {
   "codemirror_mode": {
    "name": "ipython",
    "version": 3
   },
   "file_extension": ".py",
   "mimetype": "text/x-python",
   "name": "python",
   "nbconvert_exporter": "python",
   "pygments_lexer": "ipython3",
   "version": "3.8.3"
  }
 },
 "nbformat": 4,
 "nbformat_minor": 4
}
